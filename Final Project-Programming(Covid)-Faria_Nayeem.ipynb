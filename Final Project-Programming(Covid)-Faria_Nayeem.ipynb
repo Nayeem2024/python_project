{
  "nbformat": 4,
  "nbformat_minor": 0,
  "metadata": {
    "colab": {
      "provenance": []
    },
    "kernelspec": {
      "name": "python3",
      "display_name": "Python 3"
    },
    "language_info": {
      "name": "python"
    }
  },
  "cells": [
    {
      "cell_type": "code",
      "execution_count": null,
      "metadata": {
        "id": "owwnNA8Pw1Ud"
      },
      "outputs": [],
      "source": [
        "import pandas as pd\n",
        "import numpy as np\n",
        "import matplotlib.pyplot as plt\n",
        "%matplotlib inline\n",
        "from pandas import Series, DataFrame\n",
        "from datetime import datetime"
      ]
    },
    {
      "cell_type": "code",
      "source": [
        "url_confirmed = \"https://raw.githubusercontent.com/CSSEGISandData/COVID-19/master/csse_covid_19_data/csse_covid_19_time_series/time_series_covid19_confirmed_global.csv\"\n",
        "url_deaths = \"https://raw.githubusercontent.com/CSSEGISandData/COVID-19/master/csse_covid_19_data/csse_covid_19_time_series/time_series_covid19_deaths_global.csv\"\n",
        "\n",
        "df_confirmed_primary = pd.read_csv(url_confirmed)\n",
        "df_deaths_primary = pd.read_csv(url_deaths)\n"
      ],
      "metadata": {
        "id": "SyZrmIksxNx-"
      },
      "execution_count": null,
      "outputs": []
    },
    {
      "cell_type": "code",
      "source": [
        "date_columns = df_confirmed_primary.columns[4:]\n",
        "date_columns"
      ],
      "metadata": {
        "colab": {
          "base_uri": "https://localhost:8080/"
        },
        "id": "BC8FN6O8yxRP",
        "outputId": "4fa8a4e9-0142-4c4c-8868-25ac1dcfaf5d"
      },
      "execution_count": null,
      "outputs": [
        {
          "output_type": "execute_result",
          "data": {
            "text/plain": [
              "Index(['1/22/20', '1/23/20', '1/24/20', '1/25/20', '1/26/20', '1/27/20',\n",
              "       '1/28/20', '1/29/20', '1/30/20', '1/31/20',\n",
              "       ...\n",
              "       '2/28/23', '3/1/23', '3/2/23', '3/3/23', '3/4/23', '3/5/23', '3/6/23',\n",
              "       '3/7/23', '3/8/23', '3/9/23'],\n",
              "      dtype='object', length=1143)"
            ]
          },
          "metadata": {},
          "execution_count": 3
        }
      ]
    },
    {
      "cell_type": "code",
      "source": [
        "# setting Date Format\n",
        "date_format = pd.to_datetime(date_columns)\n",
        "date_format"
      ],
      "metadata": {
        "colab": {
          "base_uri": "https://localhost:8080/"
        },
        "id": "J8zSlQp_LpRd",
        "outputId": "edb4f922-7a08-4167-a1ca-a1c967466001"
      },
      "execution_count": null,
      "outputs": [
        {
          "output_type": "execute_result",
          "data": {
            "text/plain": [
              "DatetimeIndex(['2020-01-22', '2020-01-23', '2020-01-24', '2020-01-25',\n",
              "               '2020-01-26', '2020-01-27', '2020-01-28', '2020-01-29',\n",
              "               '2020-01-30', '2020-01-31',\n",
              "               ...\n",
              "               '2023-02-28', '2023-03-01', '2023-03-02', '2023-03-03',\n",
              "               '2023-03-04', '2023-03-05', '2023-03-06', '2023-03-07',\n",
              "               '2023-03-08', '2023-03-09'],\n",
              "              dtype='datetime64[ns]', length=1143, freq=None)"
            ]
          },
          "metadata": {},
          "execution_count": 4
        }
      ]
    },
    {
      "cell_type": "code",
      "source": [
        "# setting Date Range\n",
        "range = (date_format >= '2020-02-01') & (date_format <= '2021-07-31')"
      ],
      "metadata": {
        "id": "r7qwaE1NNSCI"
      },
      "execution_count": null,
      "outputs": []
    },
    {
      "cell_type": "code",
      "source": [
        "df_confirmed = df_confirmed_primary.iloc[:, :4].join(df_confirmed_primary.iloc[:, 4:][date_columns[range]])\n",
        "df_deaths = df_deaths_primary.iloc[:, :4].join(df_deaths_primary.iloc[:, 4:][date_columns[range]])"
      ],
      "metadata": {
        "id": "9l7lf4KpOX0U"
      },
      "execution_count": null,
      "outputs": []
    },
    {
      "cell_type": "code",
      "source": [
        "# Sum of confirmed cases and deaths\n",
        "global_confirmed = df_confirmed.iloc[:, 4:].sum(axis=0)\n",
        "global_deaths = df_deaths.iloc[:, 4:].sum(axis=0)"
      ],
      "metadata": {
        "id": "nBRMrmvEQm0z"
      },
      "execution_count": null,
      "outputs": []
    },
    {
      "cell_type": "code",
      "source": [
        "# Aggregated dataframe\n",
        "global_data = pd.DataFrame({\n",
        "    'Date': global_confirmed.index,\n",
        "    'Confirmed Cases': global_confirmed.values,\n",
        "    'Deaths': global_deaths.values\n",
        "})\n",
        "\n",
        "global_data"
      ],
      "metadata": {
        "id": "ZRp4OacKWiyb"
      },
      "execution_count": null,
      "outputs": []
    },
    {
      "cell_type": "code",
      "source": [
        "# Create new 2 columns for per day confirmed cases and per day deaths.\n",
        "global_data['Confirmed cases/day'] = global_data['Confirmed Cases'].diff().fillna(global_data['Confirmed Cases'])\n",
        "global_data['Deaths/day'] = global_data['Deaths'].diff().fillna(global_data['Deaths'])\n",
        "\n",
        "global_data"
      ],
      "metadata": {
        "id": "PXx6NIHqWims"
      },
      "execution_count": null,
      "outputs": []
    },
    {
      "cell_type": "code",
      "source": [
        "#Read csv stock data into dataframes\n",
        "df_AC = pd.read_csv(\"Air Canada.csv\")\n",
        "df_BoA = pd.read_csv(\"Bank of America.csv\")\n",
        "df_BGold = pd.read_csv(\"Barrick Gold Corporation.csv\")"
      ],
      "metadata": {
        "id": "Y1pD7Gn5Wiiq"
      },
      "execution_count": null,
      "outputs": []
    },
    {
      "cell_type": "code",
      "source": [
        "df_AC"
      ],
      "metadata": {
        "id": "yiyHKDKRWiYO"
      },
      "execution_count": null,
      "outputs": []
    },
    {
      "cell_type": "code",
      "source": [
        "# Keeping only stock close price\n",
        "df_AC.drop(['Open', 'High', 'Low', 'Adj Close', 'Volume'], axis=1, inplace=True)"
      ],
      "metadata": {
        "id": "-VDVeS6-WiPI"
      },
      "execution_count": null,
      "outputs": []
    },
    {
      "cell_type": "code",
      "source": [
        "df_BoA.drop(['Open', 'High', 'Low', 'Adj Close', 'Volume'], axis=1, inplace=True)"
      ],
      "metadata": {
        "id": "0T1dPrPeWiCZ"
      },
      "execution_count": null,
      "outputs": []
    },
    {
      "cell_type": "code",
      "source": [
        "df_BGold.drop(['Open', 'High', 'Low', 'Adj Close', 'Volume'], axis=1, inplace=True)"
      ],
      "metadata": {
        "id": "1OVMfvrsW0aq"
      },
      "execution_count": null,
      "outputs": []
    },
    {
      "cell_type": "code",
      "source": [
        "df_merge1 = pd.merge(df_AC, df_BoA, on = 'Date')\n",
        "df_merge1"
      ],
      "metadata": {
        "id": "Q-CqDl2bW0XR"
      },
      "execution_count": null,
      "outputs": []
    },
    {
      "cell_type": "code",
      "source": [
        "# Merge 3 stock data\n",
        "df_merge2 = pd.merge(df_merge1, df_BGold, on = 'Date')\n",
        "df_merge2"
      ],
      "metadata": {
        "id": "hFdyvY8PW0Up"
      },
      "execution_count": null,
      "outputs": []
    },
    {
      "cell_type": "code",
      "source": [
        "# Renaming the stock close price\n",
        "df_stock_data = df_merge2.rename(columns = {'Close_x': 'Close_AC', 'Close_y': 'Close_BoA', 'Close': 'Close_BGold'})\n",
        "df_stock_data"
      ],
      "metadata": {
        "id": "x3jgMZuLW0Rj"
      },
      "execution_count": null,
      "outputs": []
    },
    {
      "cell_type": "code",
      "source": [
        "date_column_stock = df_stock_data.Date\n",
        "date_column_stock"
      ],
      "metadata": {
        "id": "2RHhTw-HW0Oy"
      },
      "execution_count": null,
      "outputs": []
    },
    {
      "cell_type": "code",
      "source": [
        "# setting Date Format\n",
        "date_format_stock = pd.to_datetime(date_column_stock)\n",
        "date_format_stock"
      ],
      "metadata": {
        "id": "Z_SxItLZXDmT"
      },
      "execution_count": null,
      "outputs": []
    },
    {
      "cell_type": "code",
      "source": [
        "# Merging the COVID data with stock data\n",
        "df_aggregated = global_data.iloc[:,:].join(df_stock_data.iloc[:, 1:])\n",
        "df_aggregated"
      ],
      "metadata": {
        "id": "4xlh_F1JeuFK"
      },
      "execution_count": null,
      "outputs": []
    },
    {
      "cell_type": "code",
      "source": [
        "#Checking missing values\n",
        "missing_value = df_aggregated.isnull().sum()\n",
        "missing_value"
      ],
      "metadata": {
        "id": "WXuKf-ivet9S"
      },
      "execution_count": null,
      "outputs": []
    },
    {
      "cell_type": "code",
      "source": [
        "# Dropping missing values\n",
        "df_aggregated = df_aggregated.dropna()"
      ],
      "metadata": {
        "id": "mJgDMzw3et6H"
      },
      "execution_count": null,
      "outputs": []
    },
    {
      "cell_type": "code",
      "source": [
        "#Checking missing values again\n",
        "df_aggregated.isnull().sum()"
      ],
      "metadata": {
        "id": "HMfdoY4jet0P"
      },
      "execution_count": null,
      "outputs": []
    },
    {
      "cell_type": "code",
      "source": [
        "df_aggregated"
      ],
      "metadata": {
        "id": "878y6zWdetvD"
      },
      "execution_count": null,
      "outputs": []
    },
    {
      "cell_type": "markdown",
      "source": [
        "#**Visualization**"
      ],
      "metadata": {
        "id": "DXXcRWg1fFr4"
      }
    },
    {
      "cell_type": "code",
      "source": [
        "df_aggregated['Date']=pd.to_datetime(df_aggregated['Date'])\n",
        "df_aggregated.dtypes"
      ],
      "metadata": {
        "id": "OEz10GWze605"
      },
      "execution_count": null,
      "outputs": []
    },
    {
      "cell_type": "code",
      "source": [
        "from datetime import datetime\n",
        "import matplotlib.cbook as cbook\n",
        "import matplotlib.dates as mdates\n",
        "from matplotlib.ticker import (MultipleLocator, FormatStrFormatter,\n",
        "                               AutoMinorLocator)\n",
        "\n",
        "plt.figure(figsize=(15, 6))\n",
        "\n",
        "plt.plot(df_aggregated[\"Date\"], df_aggregated[\"Close_AC\"], label='Close_AC', linewidth=3)\n",
        "plt.plot(df_aggregated[\"Date\"], df_aggregated[\"Close_BoA\"], label='Close_BoA', linewidth=3)\n",
        "plt.plot(df_aggregated[\"Date\"], df_aggregated[\"Close_BGold\"], label='Close_BGold', linewidth=3)\n",
        "\n",
        "plt.bar(df_aggregated[\"Date\"], df_aggregated[\"Confirmed cases/day\"], label=\"Per day confirmed cases\",color ='blue', width = 0.20)\n",
        "plt.bar(df_aggregated[\"Date\"], df_aggregated[\"Deaths/day\"],label=\"Per day death\", color ='red', width = 0.20)\n",
        "\n",
        "\n",
        "dtFmt = mdates.DateFormatter('%Y-%m') # define the formatting\n",
        "plt.gca().xaxis.set_major_formatter(dtFmt)\n",
        "# # show every 12th tick on x axes\n",
        "plt.gca().xaxis.set_major_locator(mdates.MonthLocator(interval=1))\n",
        "\n",
        "plt.xticks(rotation=90, fontweight='light',  fontsize='x-small',)\n",
        "#logarithmic scale for the y-axis\n",
        "plt.yscale('log')\n",
        "\n",
        "plt.xlabel('Date')\n",
        "plt.ylabel('Values (log scale)')\n",
        "plt.title('Closing prices of stock vs covid confirmed cases and deaths')\n",
        "plt.legend()"
      ],
      "metadata": {
        "id": "OA7fHdefe6gQ"
      },
      "execution_count": null,
      "outputs": []
    },
    {
      "cell_type": "markdown",
      "source": [],
      "metadata": {
        "id": "Ki2eUWiSkpvL"
      }
    },
    {
      "cell_type": "markdown",
      "source": [
        "We have used Line Chart and Bar Chart here to show the changes of COVID confirmed cases, deaths and stock prices with respect to time period (from Feb 2020 to Feb 2021)."
      ],
      "metadata": {
        "id": "DNiFOpu35Bzx"
      }
    },
    {
      "cell_type": "code",
      "source": [],
      "metadata": {
        "id": "af8tHh50e8Ma"
      },
      "execution_count": null,
      "outputs": []
    },
    {
      "cell_type": "code",
      "source": [],
      "metadata": {
        "id": "73cczVC6e8Ep"
      },
      "execution_count": null,
      "outputs": []
    }
  ]
}