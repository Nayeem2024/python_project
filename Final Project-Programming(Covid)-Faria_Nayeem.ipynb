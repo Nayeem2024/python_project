{
  "nbformat": 4,
  "nbformat_minor": 0,
  "metadata": {
    "colab": {
      "provenance": []
    },
    "kernelspec": {
      "name": "python3",
      "display_name": "Python 3"
    },
    "language_info": {
      "name": "python"
    }
  },
  "cells": [
    {
      "cell_type": "code",
      "execution_count": null,
      "metadata": {
        "id": "owwnNA8Pw1Ud"
      },
      "outputs": [],
      "source": [
        "import pandas as pd\n",
        "import numpy as np\n",
        "import matplotlib.pyplot as plt\n",
        "%matplotlib inline\n",
        "from pandas import Series, DataFrame\n",
        "from datetime import datetime"
      ]
    },
    {
      "cell_type": "code",
      "source": [
        "url_confirmed = \"https://raw.githubusercontent.com/CSSEGISandData/COVID-19/master/csse_covid_19_data/csse_covid_19_time_series/time_series_covid19_confirmed_global.csv\"\n",
        "url_deaths = \"https://raw.githubusercontent.com/CSSEGISandData/COVID-19/master/csse_covid_19_data/csse_covid_19_time_series/time_series_covid19_deaths_global.csv\"\n",
        "\n",
        "df_confirmed_primary = pd.read_csv(url_confirmed)\n",
        "df_deaths_primary = pd.read_csv(url_deaths)\n"
      ],
      "metadata": {
        "id": "SyZrmIksxNx-"
      },
      "execution_count": null,
      "outputs": []
    },
    {
      "cell_type": "code",
      "source": [
        "date_columns = df_confirmed_primary.columns[4:]\n",
        "date_columns"
      ],
      "metadata": {
        "colab": {
          "base_uri": "https://localhost:8080/"
        },
        "id": "BC8FN6O8yxRP",
        "outputId": "4fa8a4e9-0142-4c4c-8868-25ac1dcfaf5d"
      },
      "execution_count": null,
      "outputs": [
        {
          "output_type": "execute_result",
          "data": {
            "text/plain": [
              "Index(['1/22/20', '1/23/20', '1/24/20', '1/25/20', '1/26/20', '1/27/20',\n",
              "       '1/28/20', '1/29/20', '1/30/20', '1/31/20',\n",
              "       ...\n",
              "       '2/28/23', '3/1/23', '3/2/23', '3/3/23', '3/4/23', '3/5/23', '3/6/23',\n",
              "       '3/7/23', '3/8/23', '3/9/23'],\n",
              "      dtype='object', length=1143)"
            ]
          },
          "metadata": {},
          "execution_count": 3
        }
      ]
    },
    {
      "cell_type": "code",
      "source": [
        "# setting Date Format\n",
        "date_format = pd.to_datetime(date_columns)\n",
        "date_format"
      ],
      "metadata": {
        "colab": {
          "base_uri": "https://localhost:8080/"
        },
        "id": "J8zSlQp_LpRd",
        "outputId": "edb4f922-7a08-4167-a1ca-a1c967466001"
      },
      "execution_count": null,
      "outputs": [
        {
          "output_type": "execute_result",
          "data": {
            "text/plain": [
              "DatetimeIndex(['2020-01-22', '2020-01-23', '2020-01-24', '2020-01-25',\n",
              "               '2020-01-26', '2020-01-27', '2020-01-28', '2020-01-29',\n",
              "               '2020-01-30', '2020-01-31',\n",
              "               ...\n",
              "               '2023-02-28', '2023-03-01', '2023-03-02', '2023-03-03',\n",
              "               '2023-03-04', '2023-03-05', '2023-03-06', '2023-03-07',\n",
              "               '2023-03-08', '2023-03-09'],\n",
              "              dtype='datetime64[ns]', length=1143, freq=None)"
            ]
          },
          "metadata": {},
          "execution_count": 4
        }
      ]
    },
    {
      "cell_type": "code",
      "source": [
        "# setting Date Range\n",
        "range = (date_format >= '2020-02-01') & (date_format <= '2021-07-31')"
      ],
      "metadata": {
        "id": "r7qwaE1NNSCI"
      },
      "execution_count": null,
      "outputs": []
    },
    {
      "cell_type": "code",
      "source": [
        "df_confirmed = df_confirmed_primary.iloc[:, :4].join(df_confirmed_primary.iloc[:, 4:][date_columns[range]])\n",
        "df_deaths = df_deaths_primary.iloc[:, :4].join(df_deaths_primary.iloc[:, 4:][date_columns[range]])"
      ],
      "metadata": {
        "id": "9l7lf4KpOX0U"
      },
      "execution_count": null,
      "outputs": []
    },
    {
      "cell_type": "code",
      "source": [
        "# Sum of confirmed cases and deaths\n",
        "global_confirmed = df_confirmed.iloc[:, 4:].sum(axis=0)\n",
        "global_deaths = df_deaths.iloc[:, 4:].sum(axis=0)"
      ],
      "metadata": {
        "id": "nBRMrmvEQm0z"
      },
      "execution_count": null,
      "outputs": []
    },
    {
      "cell_type": "code",
      "source": [
        "# Aggregated dataframe\n",
        "global_data = pd.DataFrame({\n",
        "    'Date': global_confirmed.index,\n",
        "    'Confirmed Cases': global_confirmed.values,\n",
        "    'Deaths': global_deaths.values\n",
        "})\n",
        "\n",
        "global_data"
      ],
      "metadata": {
        "id": "ZRp4OacKWiyb"
      },
      "execution_count": null,
      "outputs": []
    },
    {
      "cell_type": "code",
      "source": [
        "# Create new 2 columns for per day confirmed cases and per day deaths.\n",
        "global_data['Confirmed cases/day'] = global_data['Confirmed Cases'].diff().fillna(global_data['Confirmed Cases'])\n",
        "global_data['Deaths/day'] = global_data['Deaths'].diff().fillna(global_data['Deaths'])\n",
        "\n",
        "global_data"
      ],
      "metadata": {
        "id": "PXx6NIHqWims"
      },
      "execution_count": null,
      "outputs": []
    },
    {
      "cell_type": "code",
      "source": [
        "#Read csv stock data into dataframes\n",
        "df_AC = pd.read_csv(\"Air Canada.csv\")\n",
        "df_BoA = pd.read_csv(\"Bank of America.csv\")\n",
        "df_BGold = pd.read_csv(\"Barrick Gold Corporation.csv\")"
      ],
      "metadata": {
        "id": "Y1pD7Gn5Wiiq"
      },
      "execution_count": null,
      "outputs": []
    },
    {
      "cell_type": "code",
      "source": [
        "df_AC"
      ],
      "metadata": {
        "id": "yiyHKDKRWiYO"
      },
      "execution_count": null,
      "outputs": []
    },
    {
      "cell_type": "code",
      "source": [
        "# Keeping only stock close price\n",
        "df_AC.drop(['Open', 'High', 'Low', 'Adj Close', 'Volume'], axis=1, inplace=True)"
      ],
      "metadata": {
        "id": "-VDVeS6-WiPI"
      },
      "execution_count": null,
      "outputs": []
    },
    {
      "cell_type": "code",
      "source": [
        "df_BoA.drop(['Open', 'High', 'Low', 'Adj Close', 'Volume'], axis=1, inplace=True)"
      ],
      "metadata": {
        "id": "0T1dPrPeWiCZ"
      },
      "execution_count": null,
      "outputs": []
    },
    {
      "cell_type": "code",
      "source": [
        "df_BGold.drop(['Open', 'High', 'Low', 'Adj Close', 'Volume'], axis=1, inplace=True)"
      ],
      "metadata": {
        "id": "1OVMfvrsW0aq"
      },
      "execution_count": null,
      "outputs": []
    },
    {
      "cell_type": "code",
      "source": [
        "df_merge1 = pd.merge(df_AC, df_BoA, on = 'Date')\n",
        "df_merge1"
      ],
      "metadata": {
        "id": "Q-CqDl2bW0XR"
      },
      "execution_count": null,
      "outputs": []
    },
    {
      "cell_type": "code",
      "source": [
        "# Merge 3 stock data\n",
        "df_merge2 = pd.merge(df_merge1, df_BGold, on = 'Date')\n",
        "df_merge2"
      ],
      "metadata": {
        "id": "hFdyvY8PW0Up"
      },
      "execution_count": null,
      "outputs": []
    },
    {
      "cell_type": "code",
      "source": [
        "# Renaming the stock close price\n",
        "df_stock_data = df_merge2.rename(columns = {'Close_x': 'Close_AC', 'Close_y': 'Close_BoA', 'Close': 'Close_BGold'})\n",
        "df_stock_data"
      ],
      "metadata": {
        "id": "x3jgMZuLW0Rj"
      },
      "execution_count": null,
      "outputs": []
    },
    {
      "cell_type": "code",
      "source": [
        "date_column_stock = df_stock_data.Date\n",
        "date_column_stock"
      ],
      "metadata": {
        "id": "2RHhTw-HW0Oy"
      },
      "execution_count": null,
      "outputs": []
    },
    {
      "cell_type": "code",
      "source": [
        "# setting Date Format\n",
        "date_format_stock = pd.to_datetime(date_column_stock)\n",
        "date_format_stock"
      ],
      "metadata": {
        "id": "Z_SxItLZXDmT"
      },
      "execution_count": null,
      "outputs": []
    }
  ]
}